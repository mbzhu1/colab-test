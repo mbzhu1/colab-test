{
  "nbformat": 4,
  "nbformat_minor": 0,
  "metadata": {
    "colab": {
      "name": "ludwig_on_colab.ipynb",
      "provenance": [],
      "authorship_tag": "ABX9TyPmFML72OoX1uRvx3Jgnm3i"
    },
    "kernelspec": {
      "name": "python3",
      "display_name": "Python 3"
    },
    "accelerator": "GPU"
  },
  "cells": [
    {
      "cell_type": "code",
      "metadata": {
        "id": "nqMXDZ4b-Sj2"
      },
      "source": [
        "!pip --quiet install ludwig"
      ],
      "execution_count": null,
      "outputs": []
    },
    {
      "cell_type": "code",
      "metadata": {
        "id": "0wFSj5Aj-kqI"
      },
      "source": [
        "import logging\n",
        "import os\n",
        "import pandas as pd\n",
        "from ludwig.api import LudwigModel"
      ],
      "execution_count": null,
      "outputs": []
    },
    {
      "cell_type": "code",
      "metadata": {
        "id": "NvVaCaeL_JY8"
      },
      "source": [
        "config = 2"
      ],
      "execution_count": null,
      "outputs": []
    }
  ]
}